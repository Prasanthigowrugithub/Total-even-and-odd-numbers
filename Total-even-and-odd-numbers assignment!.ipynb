{
 "cells": [
  {
   "cell_type": "code",
   "execution_count": 1,
   "id": "1ab980c5",
   "metadata": {},
   "outputs": [
    {
     "name": "stdout",
     "output_type": "stream",
     "text": [
      "total odd numbers are  4\n",
      "total even numbers are 5\n"
     ]
    }
   ],
   "source": [
    "lst = [1,2,3,4,5,6,7,8,9]\n",
    "odd = 0\n",
    "even = 0\n",
    "for i in lst:\n",
    "    if i%2==0:\n",
    "        odd = odd+1\n",
    "    else:    \n",
    "        even = even+1\n",
    "    \n",
    "print(\"total odd numbers are \",odd)\n",
    "print(\"total even numbers are\",even)"
   ]
  },
  {
   "cell_type": "code",
   "execution_count": null,
   "id": "b6c9f7f1",
   "metadata": {},
   "outputs": [],
   "source": []
  }
 ],
 "metadata": {
  "kernelspec": {
   "display_name": "Python 3 (ipykernel)",
   "language": "python",
   "name": "python3"
  },
  "language_info": {
   "codemirror_mode": {
    "name": "ipython",
    "version": 3
   },
   "file_extension": ".py",
   "mimetype": "text/x-python",
   "name": "python",
   "nbconvert_exporter": "python",
   "pygments_lexer": "ipython3",
   "version": "3.10.6"
  }
 },
 "nbformat": 4,
 "nbformat_minor": 5
}
